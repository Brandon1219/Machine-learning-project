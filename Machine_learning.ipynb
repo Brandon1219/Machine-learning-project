{
  "nbformat": 4,
  "nbformat_minor": 0,
  "metadata": {
    "colab": {
      "provenance": [],
      "authorship_tag": "ABX9TyMM8iaZWqgzs/ln9FTzBzBn",
      "include_colab_link": true
    },
    "kernelspec": {
      "name": "python3",
      "display_name": "Python 3"
    },
    "language_info": {
      "name": "python"
    }
  },
  "cells": [
    {
      "cell_type": "markdown",
      "metadata": {
        "id": "view-in-github",
        "colab_type": "text"
      },
      "source": [
        "<a href=\"https://colab.research.google.com/github/Brandon1219/Machine-learning-project/blob/main/Machine_learning.ipynb\" target=\"_parent\"><img src=\"https://colab.research.google.com/assets/colab-badge.svg\" alt=\"Open In Colab\"/></a>"
      ]
    },
    {
      "cell_type": "markdown",
      "source": [
        "#**PROJECT DISSERTATION**"
      ],
      "metadata": {
        "id": "GNxZuxWkqGEl"
      }
    },
    {
      "cell_type": "markdown",
      "source": [
        "Import Requirement"
      ],
      "metadata": {
        "id": "UQycC9jhqAC7"
      }
    },
    {
      "cell_type": "code",
      "execution_count": 12,
      "metadata": {
        "id": "BCLi3r48IEK0"
      },
      "outputs": [],
      "source": [
        "import pandas as pd\n",
        "import numpy as np"
      ]
    },
    {
      "cell_type": "markdown",
      "source": [
        "Import Data"
      ],
      "metadata": {
        "id": "vDukSOrTs7bR"
      }
    },
    {
      "cell_type": "code",
      "source": [
        "data = pd.read_csv(\"Final_Dis_geo.csv\")"
      ],
      "metadata": {
        "id": "cGofHqvXKqVv"
      },
      "execution_count": 13,
      "outputs": []
    },
    {
      "cell_type": "markdown",
      "source": [
        "# 1. preprocess"
      ],
      "metadata": {
        "id": "A6Dz5bWLacQA"
      }
    },
    {
      "cell_type": "markdown",
      "source": [
        "## 1.1 Outliner removal"
      ],
      "metadata": {
        "id": "XMcufcH9akTn"
      }
    },
    {
      "cell_type": "code",
      "source": [
        "# find the outliers\n",
        "upper_limit = data['Price'].mean() + 3*  data['Price'].std()\n",
        "lower_limit = data['Price'].mean() - 3*  data['Price'].std()\n",
        "print('Upper limit:', upper_limit)\n",
        "print('Lower limit:', lower_limit)\n",
        "print('Original number of data:', len(data))"
      ],
      "metadata": {
        "id": "_Py8tRrgmjkm"
      },
      "execution_count": null,
      "outputs": []
    },
    {
      "cell_type": "code",
      "source": [
        "# Remove the outliers\n",
        "data = data.loc[(data['Price'] < upper_limit) & (data['Price'] > lower_limit)]\n",
        "print('new number of data:', len(data))"
      ],
      "metadata": {
        "id": "ymjOzm1JmbaC"
      },
      "execution_count": null,
      "outputs": []
    },
    {
      "cell_type": "markdown",
      "source": [
        "## 1.2 Split data (into train data and test data)"
      ],
      "metadata": {
        "id": "BvUeU_Laa96A"
      }
    },
    {
      "cell_type": "code",
      "source": [
        "from sklearn.model_selection import train_test_split\n",
        "x = data.drop(['Price'], axis=1)\n",
        "y = data['Price']"
      ],
      "metadata": {
        "id": "1cgUnOJ_aoiv"
      },
      "execution_count": 19,
      "outputs": []
    },
    {
      "cell_type": "code",
      "source": [
        "x_train, x_test, y_train, y_test = train_test_split(x, y, test_size=0.2)\n",
        "train_data = x_train.join(y_train)"
      ],
      "metadata": {
        "id": "HmH4oSeZbKKy"
      },
      "execution_count": 20,
      "outputs": []
    },
    {
      "cell_type": "markdown",
      "source": [
        "# 2. Information"
      ],
      "metadata": {
        "id": "SnJRKOKgaG9P"
      }
    },
    {
      "cell_type": "markdown",
      "source": [
        "## 2.1 Basic information for the dataset (for eaxmination purpose)"
      ],
      "metadata": {
        "id": "-iOGnZFgbda5"
      }
    },
    {
      "cell_type": "markdown",
      "source": [
        "### 2.1.1 data description"
      ],
      "metadata": {
        "id": "NImegTNNnyRz"
      }
    },
    {
      "cell_type": "code",
      "source": [
        "data.describe()"
      ],
      "metadata": {
        "id": "-2c9yYwXjIpA"
      },
      "execution_count": null,
      "outputs": []
    },
    {
      "cell_type": "markdown",
      "source": [
        "### 2.1.2 Information of attributes"
      ],
      "metadata": {
        "id": "ShnYxhpBn508"
      }
    },
    {
      "cell_type": "code",
      "source": [
        "data.info()"
      ],
      "metadata": {
        "id": "97ePhI1GkOiD"
      },
      "execution_count": null,
      "outputs": []
    },
    {
      "cell_type": "markdown",
      "source": [
        "### 2.1.3 train dataset"
      ],
      "metadata": {
        "id": "ohorl7meoCVT"
      }
    },
    {
      "cell_type": "code",
      "source": [
        "train_data"
      ],
      "metadata": {
        "id": "7QcrFxpkbrs-"
      },
      "execution_count": null,
      "outputs": []
    },
    {
      "cell_type": "markdown",
      "source": [],
      "metadata": {
        "id": "uxZLXavLrNXC"
      }
    },
    {
      "cell_type": "markdown",
      "source": [
        "## 2.2 visualization (Charts)"
      ],
      "metadata": {
        "id": "38L6kKWIbgE1"
      }
    },
    {
      "cell_type": "code",
      "source": [
        "import matplotlib.pyplot as plt\n",
        "import seaborn as sns"
      ],
      "metadata": {
        "id": "HTCZcOvBpqVM"
      },
      "execution_count": null,
      "outputs": []
    },
    {
      "cell_type": "markdown",
      "source": [
        "### 2.2.1 Data collection"
      ],
      "metadata": {
        "id": "gI02HvK8qodq"
      }
    },
    {
      "cell_type": "code",
      "source": [
        "### Number of Transactions Collected from Each District\n",
        "\n",
        "# Data\n",
        "districts = [\"Sanmin\", \"Sinsing\", \"Cianjin\", \"Lingya\", \"Cianjhen\", \"Yancheng\",\n",
        "             \"Zuoying\", \"Gushan\", \"Nanzih\", \"Siaogang\"]\n",
        "entries = [37954, 6678, 6287, 20338, 16077, 2395, 25843, 19821, 30208, 12530]\n",
        "\n",
        "# Create the bar chart\n",
        "plt.figure(figsize=(10, 6))\n",
        "plt.bar(districts, entries, color='lightgreen')\n",
        "plt.xticks(rotation=45)\n",
        "plt.xlabel('District')\n",
        "plt.ylabel('Number of Transactions')\n",
        "plt.title('Number of Transactions Collected from Each District')\n",
        "plt.grid(axis='y', linestyle='--', alpha=0.7)\n",
        "plt.tight_layout()\n",
        "\n",
        "# Display the chart\n",
        "plt.show()"
      ],
      "metadata": {
        "id": "q6bxJCBNLjaT"
      },
      "execution_count": null,
      "outputs": []
    },
    {
      "cell_type": "markdown",
      "source": [
        "### 2.2.2 Attributes Details"
      ],
      "metadata": {
        "id": "LTgTm4zHrx4r"
      }
    },
    {
      "cell_type": "code",
      "source": [
        "### Price chart\n",
        "numeric_col = ['Price']\n",
        "data.boxplot(numeric_col)"
      ],
      "metadata": {
        "id": "sO55AtkB_r25"
      },
      "execution_count": null,
      "outputs": []
    },
    {
      "cell_type": "code",
      "source": [
        "### Variable info in Train Data\n",
        "train_data.hist(figsize= (20,16))"
      ],
      "metadata": {
        "id": "M7d2vgCNMaxY"
      },
      "execution_count": null,
      "outputs": []
    },
    {
      "cell_type": "markdown",
      "source": [
        "### 2.2.3 Attribute correlation"
      ],
      "metadata": {
        "id": "G_Qcd-_EsDhZ"
      }
    },
    {
      "cell_type": "code",
      "source": [
        "### Correlation list\n",
        "train_data.corr()"
      ],
      "metadata": {
        "id": "8aR9g8dbOecw"
      },
      "execution_count": null,
      "outputs": []
    },
    {
      "cell_type": "code",
      "source": [
        "### Attribute Correlation Chart\n",
        "plt.figure(figsize=(20, 12))\n",
        "sns.heatmap(train_data.corr(), annot=True, cmap=\"YlGnBu\", annot_kws={\"fontsize\": 8})\n",
        "plt.show()"
      ],
      "metadata": {
        "id": "-wn2sUiYYZm_"
      },
      "execution_count": null,
      "outputs": []
    },
    {
      "cell_type": "code",
      "source": [
        "###  Distribution of transactions\n",
        "plt.figure(figsize=(15,8))\n",
        "sns.scatterplot(x=\"Latitude\", y=\"Longitude\", data=train_data, hue=\"Price\", palette=\"coolwarm\")"
      ],
      "metadata": {
        "id": "6ahqZhcWctXc"
      },
      "execution_count": null,
      "outputs": []
    },
    {
      "cell_type": "code",
      "source": [
        "### Correlation of Attributes to House Price: Comparative Analysis\n",
        "\n",
        "# Define the attributes and their corresponding correlation values\n",
        "attributes = ['Date', 'Size', 'Main Building Ratio', 'Lowrise Apt', 'Midrise Apt','Highrise Apt', 'Studio', 'Age', 'Floor Level', 'Building Height',\n",
        "              'Land', 'Building', 'Parking', 'Bedroom', 'Livingroom', 'Bathroom','Mng', 'Lift', 'Residential', 'Commerce', 'Industry']\n",
        "correlation_values = [0.13, 0.85, -0.43, -0.33, -0.14, 0.45, -0.22, -0.52, 0.32, 0.46,\n",
        "                      -0.1, 0.012, 0.67, 0.38, 0.31, 0.35, 0.34, 0.2, 0.17, -0.14, -0.023]\n",
        "\n",
        "# Sort the attributes and correlation values by their absolute values in descending order\n",
        "sorted_indices = np.argsort(np.abs(correlation_values))[::-1]\n",
        "sorted_attributes = [attributes[i] for i in sorted_indices]\n",
        "sorted_correlation_values = [correlation_values[i] for i in sorted_indices]\n",
        "\n",
        "# Take the absolute values of correlation values\n",
        "abs_correlation_values = [abs(val) for val in sorted_correlation_values]\n",
        "\n",
        "# Create a list of colors based on correlation values\n",
        "colors = ['blue' if val >= 0 else 'darkblue' for val in sorted_correlation_values]\n",
        "\n",
        "# Create a bar chart\n",
        "plt.figure(figsize=(10, 6))\n",
        "bars = plt.bar(sorted_attributes, abs_correlation_values, color=colors)\n",
        "plt.xlabel('Attributes')\n",
        "plt.ylabel('Absolute Correlation')\n",
        "plt.title('Absolute Correlation of Attributes to House Price')\n",
        "\n",
        "# Add a legend for the colors\n",
        "legend_labels = ['Positive Correlation', 'Negative Correlation']\n",
        "legend_handles = [plt.Rectangle((0, 0), 1, 1, color='blue'), plt.Rectangle((0, 0), 1, 1, color='darkblue')]\n",
        "plt.legend(legend_handles, legend_labels)\n",
        "\n",
        "# Customize the appearance of negative correlation bars\n",
        "for bar, color in zip(bars, colors):\n",
        "    if color == 'darkblue':\n",
        "        bar.set_color('darkblue')  # Change the color of negative correlation bars\n",
        "\n",
        "plt.xticks(rotation=90)\n",
        "plt.tight_layout()\n",
        "plt.show()"
      ],
      "metadata": {
        "id": "1YlTU_D8yvF2"
      },
      "execution_count": null,
      "outputs": []
    },
    {
      "cell_type": "code",
      "source": [
        "### MAPE vs Number of Attributes\n",
        "\n",
        "mape_values = [18.07, 17.75, 17.72, 17.67, 17.86, 18.26, 18.25, 18.49, 19.49, 19.24, 19.54, 19.82, 19.79, 20.89, 20.52, 20.12, 21.24, 21.89, 23.37]\n",
        "attribute_numbers = list(range(21, 2, -1))\n",
        "\n",
        "plt.figure(figsize=(10, 5))  # Adjust the figsize to make the chart wider\n",
        "plt.plot(attribute_numbers, mape_values, marker='o')\n",
        "plt.xlabel('Number of Attributes')\n",
        "plt.ylabel('MAPE(%)')\n",
        "plt.title('MAPE vs Number of Attributes')\n",
        "plt.xticks(attribute_numbers)\n",
        "plt.ylim(17, 23)  # Set the maximum y-axis value to 23\n",
        "plt.grid(True)\n",
        "plt.show()"
      ],
      "metadata": {
        "id": "oSTKRnJ51b9s"
      },
      "execution_count": null,
      "outputs": []
    },
    {
      "cell_type": "code",
      "source": [
        "### Correlation between attributes and price\n",
        "\n",
        "attributes = [\n",
        "    \"Latitude\", \"Longitude\", \"Date\", \"Size\", \"Main Building Ratio\", \"Lowrise Apt\",\n",
        "    \"Midrise Apt\", \"Highrise Apt\", \"Studio\", \"Age\", \"Floor Level\", \"Building Height\",\n",
        "    \"Land\", \"Building\", \"Parking\", \"Bedroom\", \"Livingroom\", \"Bathroom\", \"Mng\", \"Lift\",\n",
        "    \"Residential\", \"Commerce\", \"Industry\", \"Sanmin\", \"Sinsing\", \"Cianjin\", \"Lingya\",\n",
        "    \"Cianjhen\", \"Yancheng\", \"Zuoying\", \"Gushan\", \"Nanzih\", \"Siaogang\"\n",
        "]\n",
        "correlations = [\n",
        "    -0.484070, -0.193322, 0.127965, 0.878761, -0.362428, -0.278980,\n",
        "    -0.124519, 0.380570, -0.171659, -0.481923, 0.363415, 0.477665,\n",
        "    -0.088906, 0.069419, 0.663959, 0.380452, 0.256067, 0.443533, 0.283344,\n",
        "    0.191338, 0.142253, -0.103103, -0.014118, -0.114364, -0.041034, 0.010374,\n",
        "    -0.010393, -0.010514, -0.050272, 0.084569, 0.279929, -0.119606, -0.101772\n",
        "]\n",
        "\n",
        "# Create the bar chart\n",
        "plt.figure(figsize=(12, 6))\n",
        "plt.bar(attributes, correlations, color='skyblue')\n",
        "plt.xticks(rotation=90)\n",
        "plt.xlabel('Attributes')\n",
        "plt.ylabel('Correlation with Price')\n",
        "plt.title('Correlation between Attributes and Price')\n",
        "plt.grid(axis='y', linestyle='--', alpha=0.7)\n",
        "plt.tight_layout()\n",
        "\n",
        "# Display the chart\n",
        "plt.show()"
      ],
      "metadata": {
        "id": "wu_AnlLeCqN-"
      },
      "execution_count": null,
      "outputs": []
    },
    {
      "cell_type": "markdown",
      "source": [
        "# 3 Machine learning models"
      ],
      "metadata": {
        "id": "Ijtc2AAOcWau"
      }
    },
    {
      "cell_type": "markdown",
      "source": [
        "## 3.1 Linear Regression"
      ],
      "metadata": {
        "id": "_rSxw7dZtjQp"
      }
    },
    {
      "cell_type": "markdown",
      "source": [
        "Import Requirements"
      ],
      "metadata": {
        "id": "sgnHDDcruidI"
      }
    },
    {
      "cell_type": "code",
      "source": [
        "from sklearn.metrics import r2_score, mean_squared_error, mean_absolute_error, mean_absolute_percentage_error\n",
        "from sklearn.linear_model import LinearRegression\n",
        "from sklearn.model_selection import GridSearchCV"
      ],
      "metadata": {
        "id": "iQ6gDB2hunrP"
      },
      "execution_count": null,
      "outputs": []
    },
    {
      "cell_type": "code",
      "source": [
        "### Linear Regression ###\n",
        "\n",
        "# Train a LinearRegression model\n",
        "model = LinearRegression()\n",
        "\n",
        "# Define the parameter grid for tuning\n",
        "param_grid = {\n",
        "    'fit_intercept': [True, False],\n",
        "    'copy_X': [True, False],\n",
        "    'n_jobs': [1, -1],\n",
        "    'positive': [True, False]\n",
        "}\n",
        "\n",
        "# Perform grid search to find the best parameter combination\n",
        "grid_search = GridSearchCV(model, param_grid, cv=5, scoring='r2')\n",
        "grid_search.fit(x_train, y_train)\n",
        "\n",
        "# Get the best model with tuned parameters\n",
        "best_model = grid_search.best_estimator_\n",
        "\n",
        "# Predict on the test data using the best model\n",
        "y_pred = best_model.predict(x_test)\n",
        "\n",
        "# Calculate R-squared, MAE and MARE, RMSE\n",
        "r_squared = r2_score(y_test, y_pred)\n",
        "mae = mean_absolute_error(y_test, y_pred)\n",
        "mare = mean_absolute_percentage_error(y_test, y_pred)\n",
        "rmse = mean_squared_error(y_test, y_pred, squared=False)\n",
        "\n",
        "# Print results\n",
        "print(\"R-squared:\", r_squared)\n",
        "print(\"MAE:\", mae)\n",
        "print(\"MARE:\", mare)\n",
        "print(\"RMSE:\", rmse)\n",
        "\n",
        "# Print the best parameter combination found\n",
        "print(\"Best Parameters:\", grid_search.best_params_)\n",
        "print(\"Best Model:\", best_model)"
      ],
      "metadata": {
        "colab": {
          "base_uri": "https://localhost:8080/"
        },
        "id": "KE2Jcambg1NS",
        "outputId": "062de014-ecd3-487b-fd27-afd94638cefd"
      },
      "execution_count": 40,
      "outputs": [
        {
          "output_type": "stream",
          "name": "stdout",
          "text": [
            "R-squared: 0.8640250553223399\n",
            "MAE: 125.69758614073321\n",
            "MARE: 0.3051512335057081\n",
            "RMSE: 176.85159428189627\n",
            "Best Parameters: {'copy_X': True, 'fit_intercept': False, 'n_jobs': 1, 'positive': False}\n",
            "Best Model: LinearRegression(fit_intercept=False, n_jobs=1)\n"
          ]
        }
      ]
    },
    {
      "cell_type": "markdown",
      "source": [
        "## 3.2 Multi-Linear Regression"
      ],
      "metadata": {
        "id": "nfu0HfRQcdmo"
      }
    },
    {
      "cell_type": "markdown",
      "source": [
        "Import Requirements"
      ],
      "metadata": {
        "id": "ZA7VBzZ0wU7w"
      }
    },
    {
      "cell_type": "code",
      "source": [
        "from sklearn.metrics import r2_score, mean_squared_error, mean_absolute_error, mean_absolute_percentage_error\n",
        "from sklearn.linear_model import LinearRegression\n",
        "from sklearn.preprocessing import PolynomialFeatures\n",
        "from sklearn.model_selection import train_test_split, GridSearchCV"
      ],
      "metadata": {
        "id": "clPAy0H7wWb2"
      },
      "execution_count": null,
      "outputs": []
    },
    {
      "cell_type": "code",
      "source": [
        "### with best parameters\n",
        "\n",
        "# Create polynomial features\n",
        "poly = PolynomialFeatures(degree=2)  # Set the degree of the polynomial\n",
        "x_train_poly = poly.fit_transform(x_train)\n",
        "x_test_poly = poly.transform(x_test)\n",
        "\n",
        "# Initialize Linear Regression model\n",
        "model = LinearRegression(fit_intercept=True, positive=False, copy_X=True, n_jobs=1)\n",
        "model.fit(x_train_poly, y_train)\n",
        "\n",
        "# Predict on the test data using the model\n",
        "y_pred = model.predict(x_test_poly)\n",
        "\n",
        "# calculate R-squared, MAE, MARE, RMSE\n",
        "r_squared = r2_score(y_test, y_pred)\n",
        "mae = mean_absolute_error(y_test, y_pred)\n",
        "mare = mean_absolute_percentage_error(y_test, y_pred)\n",
        "rmse = np.sqrt(mean_squared_error(y_test, y_pred))\n",
        "\n",
        "# Print results\n",
        "print(\"R-squared:\", r_squared)\n",
        "print(\"MAE:\", mae)\n",
        "print(\"MARE:\", mare)\n",
        "print(\"RMSE:\", rmse)"
      ],
      "metadata": {
        "colab": {
          "base_uri": "https://localhost:8080/"
        },
        "id": "MssE3CyMiaK0",
        "outputId": "d30a0127-65f0-4b60-cf18-2f7c67b9a269"
      },
      "execution_count": 41,
      "outputs": [
        {
          "output_type": "stream",
          "name": "stdout",
          "text": [
            "R-squared: 0.9262566655747689\n",
            "MAE: 86.7426686716513\n",
            "MARE: 0.18868144773197848\n",
            "RMSE: 130.23895993914107\n"
          ]
        }
      ]
    },
    {
      "cell_type": "markdown",
      "source": [
        "### To find best parameters"
      ],
      "metadata": {
        "id": "KXMw0OZhjN_L"
      }
    },
    {
      "cell_type": "code",
      "source": [
        "### Multi-Linear Regression ### - Find best parameters\n",
        "\n",
        "# Create polynomial features\n",
        "poly = PolynomialFeatures(degree=2)  # Set the degree of the polynomial\n",
        "x_train_poly = poly.fit_transform(x_train)\n",
        "x_test_poly = poly.transform(x_test)\n",
        "\n",
        "# Initialize Linear Regression model\n",
        "model = LinearRegression()\n",
        "\n",
        "# Define the parameter grid for tuning\n",
        "param_grid = {\n",
        "    'fit_intercept': [True, False],\n",
        "    'positive': [True, False],\n",
        "    'copy_X': [True, False],\n",
        "    'n_jobs': [1, -1]\n",
        "}\n",
        "\n",
        "# Perform grid search to find the best parameter combination\n",
        "grid_search = GridSearchCV(model, param_grid, cv=5, scoring='r2')\n",
        "grid_search.fit(x_train_poly, y_train)\n",
        "\n",
        "# Predict on the test data using the best model\n",
        "best_model = grid_search.best_estimator_\n",
        "y_pred = best_model.predict(x_test_poly)\n",
        "\n",
        "# calculate R-squared, MAE, MARE, RMSE\n",
        "r_squared = r2_score(y_test, y_pred)\n",
        "mae = mean_absolute_error(y_test, y_pred)\n",
        "mare = mean_absolute_percentage_error(y_test, y_pred)\n",
        "rmse = np.sqrt(mean_squared_error(y_test, y_pred))\n",
        "\n",
        "# Print results\n",
        "print(\"R-squared:\", r_squared)\n",
        "print(\"MAE:\", mae)\n",
        "print(\"MARE:\", mare)\n",
        "print(\"RMSE:\", rmse)\n",
        "\n",
        "# Print the best parameter combination found\n",
        "print(\"Best Parameters:\", grid_search.best_params_)"
      ],
      "metadata": {
        "id": "NqIiE0amZpjz",
        "colab": {
          "base_uri": "https://localhost:8080/"
        },
        "outputId": "b2af3e3d-ab68-4b6a-92a4-1481a19507e9"
      },
      "execution_count": null,
      "outputs": [
        {
          "output_type": "stream",
          "name": "stdout",
          "text": [
            "R-squared: 0.9278274664583999\n",
            "MAE: 87.36575497154016\n",
            "MARE: 0.23593425408538757\n",
            "RMSE: 131.50026409454077\n",
            "Best Parameters: {'copy_X': True, 'fit_intercept': True, 'n_jobs': 1, 'positive': False}\n"
          ]
        }
      ]
    },
    {
      "cell_type": "markdown",
      "source": [
        "## 3.3 Random Forest"
      ],
      "metadata": {
        "id": "tJcQTgMKcpp4"
      }
    },
    {
      "cell_type": "markdown",
      "source": [
        "Import Requirements"
      ],
      "metadata": {
        "id": "WGyFlUV2wk0_"
      }
    },
    {
      "cell_type": "code",
      "source": [
        "from sklearn.ensemble import RandomForestRegressor\n",
        "from sklearn.metrics import r2_score, mean_squared_error, mean_absolute_error\n",
        "from sklearn.model_selection import GridSearchCV"
      ],
      "metadata": {
        "id": "dswpGnDhwnuO"
      },
      "execution_count": null,
      "outputs": []
    },
    {
      "cell_type": "code",
      "source": [
        "### with best parameters\n",
        "\n",
        "# Train a Random Forest model on the data with specified parameters\n",
        "rf = RandomForestRegressor(n_estimators=300, max_depth=None, min_samples_split=5, min_samples_leaf=2)\n",
        "\n",
        "# Fit the model to the training data\n",
        "rf.fit(x_train, y_train)\n",
        "\n",
        "# Make predictions on the test set\n",
        "y_pred = rf.predict(x_test)\n",
        "\n",
        "# Calculate R-squared, MAE, MARE, RMSE\n",
        "r2 = r2_score(y_test, y_pred)\n",
        "mae = mean_absolute_error(y_test, y_pred)\n",
        "mare = np.mean(np.abs((y_test - y_pred) / y_test)) * 100\n",
        "rmse = mean_squared_error(y_test, y_pred, squared=False)\n",
        "\n",
        "# Print Results\n",
        "print(\"R-squared:\", r2)\n",
        "print(\"MAE:\", mae)\n",
        "print(\"MARE:\", mare)\n",
        "print(\"RMSE:\", rmse)"
      ],
      "metadata": {
        "colab": {
          "base_uri": "https://localhost:8080/"
        },
        "id": "qz8ZHMQkzoe0",
        "outputId": "2a7c78f3-8ad3-4c51-dc9f-ea4e7add3b01"
      },
      "execution_count": null,
      "outputs": [
        {
          "output_type": "stream",
          "name": "stdout",
          "text": [
            "R-squared: 0.9339571817280206\n",
            "MAE: 82.83741259247722\n",
            "MARE: 17.293063715875544\n",
            "RMSE: 124.21421996569441\n"
          ]
        }
      ]
    },
    {
      "cell_type": "markdown",
      "source": [
        "### To find best parameters"
      ],
      "metadata": {
        "id": "cSz_BL3OczPF"
      }
    },
    {
      "cell_type": "code",
      "source": [
        "### Random Forest ### - Find best parameters\n",
        "\n",
        "# Train a Random Forest model on the data\n",
        "rf = RandomForestRegressor()\n",
        "\n",
        "# Define the parameter grid for tuning\n",
        "param_grid = {\n",
        "    'n_estimators': [100, 200, 300],\n",
        "    'max_depth': [None, 5, 10],\n",
        "    'min_samples_split': [2, 5, 10],\n",
        "    'min_samples_leaf': [1, 2, 4]\n",
        "}\n",
        "\n",
        "# Perform grid search to find the best parameter combination\n",
        "grid_search = GridSearchCV(rf, param_grid, cv=5, scoring='r2')\n",
        "grid_search.fit(x_train, y_train)\n",
        "\n",
        "# Get the best model with tuned parameters\n",
        "best_model = grid_search.best_estimator_\n",
        "\n",
        "# Make predictions on the test set using the best model\n",
        "y_pred = best_model.predict(x_test)\n",
        "\n",
        "# Calculate R-squared, MAE, MARE, RMSE\n",
        "r2 = r2_score(y_test, y_pred)\n",
        "mae = mean_absolute_error(y_test, y_pred)\n",
        "mare = np.mean(np.abs((y_test - y_pred) / y_test)) * 100\n",
        "rmse = mean_squared_error(y_test, y_pred, squared=False)\n",
        "\n",
        "# Print Results\n",
        "print(\"R-squared:\", r2)\n",
        "print(\"MAE:\", mae)\n",
        "print(\"MARE:\", mare)\n",
        "print(\"RMSE:\", rmse)\n",
        "\n",
        "# Print the best parameter combination found\n",
        "print(\"Best Parameters:\", grid_search.best_params_)\n",
        "print(\"Best Model:\", best_model)"
      ],
      "metadata": {
        "colab": {
          "base_uri": "https://localhost:8080/"
        },
        "id": "YjlugSHiNIJ6",
        "outputId": "68d64506-3222-43b7-803b-193fb7b3ae84"
      },
      "execution_count": null,
      "outputs": [
        {
          "output_type": "stream",
          "name": "stdout",
          "text": [
            "R-squared: 0.9549443664732158\n",
            "MAE: 63.60980337675091\n",
            "MARE: 17.84731390490965\n",
            "RMSE: 101.06379251258646\n",
            "Best Parameters: {'n_estimators': 300}\n",
            "Best Model: RandomForestRegressor(n_estimators=300)\n"
          ]
        }
      ]
    },
    {
      "cell_type": "markdown",
      "source": [
        "## 3.4 XGBoost"
      ],
      "metadata": {
        "id": "5vCiHmCVeAfX"
      }
    },
    {
      "cell_type": "markdown",
      "source": [
        "Import Requirements\n",
        "\n"
      ],
      "metadata": {
        "id": "QutdKIcPxLW3"
      }
    },
    {
      "cell_type": "code",
      "source": [
        "import xgboost as xgb\n",
        "from sklearn.metrics import r2_score, mean_squared_error, mean_absolute_error\n",
        "from sklearn.model_selection import GridSearchCV\n",
        "from xgboost.sklearn import XGBRegressor"
      ],
      "metadata": {
        "id": "5LcjSSd-xPcm"
      },
      "execution_count": 42,
      "outputs": []
    },
    {
      "cell_type": "code",
      "source": [
        "### with best parameters\n",
        "\n",
        "# Convert the data to DMatrix format\n",
        "dtrain = xgb.DMatrix(x_train, label=y_train)\n",
        "dtest = xgb.DMatrix(x_test, label=y_test)\n",
        "\n",
        "# Initialize the XGBRegressor model\n",
        "model = XGBRegressor(learning_rate=0.1, max_depth=7, subsample=1.0, colsample_bytree=0.8)\n",
        "\n",
        "# Train the XGBRegressor model\n",
        "model.fit(x_train, y_train)\n",
        "\n",
        "# Make predictions on the test data\n",
        "y_pred = model.predict(x_test)\n",
        "\n",
        "# Calculate R-squared, MAE, MARE, RMSE\n",
        "r2 = r2_score(y_test, y_pred)\n",
        "mae = mean_absolute_error(y_test, y_pred)\n",
        "mse = mean_squared_error(y_test, y_pred)\n",
        "rmse = np.sqrt(mse)\n",
        "\n",
        "mare = np.mean(np.abs((y_test - y_pred) / y_test)) * 100\n",
        "\n",
        "# Print Results\n",
        "print(\"R-squared with best model:\", r2)\n",
        "print(\"Mean Absolute Error with best model:\", mae)\n",
        "print(\"Root Mean Squared Error with best model:\", rmse)\n",
        "print(\"Mean Absolute Percentage Error with best model:\", mare)"
      ],
      "metadata": {
        "colab": {
          "base_uri": "https://localhost:8080/"
        },
        "id": "gaD6csW9ekSe",
        "outputId": "9c6c3593-4fbc-4704-b142-dd147d05359e"
      },
      "execution_count": 49,
      "outputs": [
        {
          "output_type": "stream",
          "name": "stdout",
          "text": [
            "R-squared with best model: 0.9556339039086914\n",
            "Mean Absolute Error with best model: 66.31811649922325\n",
            "Root Mean Squared Error with best model: 101.01948301393251\n",
            "Mean Absolute Percentage Error with best model: 14.740174424926543\n"
          ]
        }
      ]
    },
    {
      "cell_type": "markdown",
      "source": [
        "### To find best parameters"
      ],
      "metadata": {
        "id": "MwGRxH8AeoRu"
      }
    },
    {
      "cell_type": "code",
      "source": [
        "# Convert the data to DMatrix format\n",
        "dtrain = xgb.DMatrix(x_train, label=y_train)\n",
        "dtest = xgb.DMatrix(x_test, label=y_test)\n",
        "\n",
        "# Set the XGBoost parameters\n",
        "params = {\n",
        "    'objective': 'reg:squarederror',\n",
        "    'eval_metric': 'rmse',\n",
        "    'learning_rate': 0.1,\n",
        "    'max_depth': 3,\n",
        "    'subsample': 0.8,\n",
        "    'colsample_bytree': 0.8\n",
        "}\n",
        "\n",
        "# Train the XGBoost model\n",
        "num_rounds = 100\n",
        "model = xgb.train(params, dtrain, num_rounds)\n",
        "\n",
        "# Make predictions on the test set\n",
        "y_pred = model.predict(dtest)\n",
        "\n",
        "# Calculate R-squared, MAE, MARE, RMSE\n",
        "r2 = r2_score(y_test, y_pred)\n",
        "mae = mean_absolute_error(y_test, y_pred)\n",
        "mare = np.mean(np.abs((y_test - y_pred) / y_test)) * 100\n",
        "rmse = np.sqrt(mse)\n",
        "\n",
        "# Print Results\n",
        "print(\"R-squared with best model:\", r2)\n",
        "print(\"Mean Absolute Error with best model:\", mae)\n",
        "print(\"Root Mean Squared Error with best model:\", rmse)\n",
        "print(\"Mean Absolute Percentage Error with best model:\", mare)"
      ],
      "metadata": {
        "colab": {
          "base_uri": "https://localhost:8080/"
        },
        "id": "1weOLS-P_1cL",
        "outputId": "0b53adab-0205-4ca1-9131-d42de855c379"
      },
      "execution_count": 48,
      "outputs": [
        {
          "output_type": "stream",
          "name": "stdout",
          "text": [
            "R-squared with best model: 0.9319873584094023\n",
            "Mean Absolute Error with best model: 85.32799784017048\n",
            "Root Mean Squared Error with best model: 101.01948301393251\n",
            "Mean Absolute Percentage Error with best model: 18.715123086464803\n"
          ]
        }
      ]
    },
    {
      "cell_type": "markdown",
      "source": [
        "## 3.5 CART"
      ],
      "metadata": {
        "id": "e-I8x6ZgeS83"
      }
    },
    {
      "cell_type": "markdown",
      "source": [
        "Import Requirements"
      ],
      "metadata": {
        "id": "xUwtoqlbzRxw"
      }
    },
    {
      "cell_type": "code",
      "source": [
        "from sklearn.tree import DecisionTreeRegressor\n",
        "from sklearn.metrics import r2_score, mean_absolute_error, mean_squared_error\n",
        "from sklearn.model_selection import GridSearchCV"
      ],
      "metadata": {
        "id": "rtInX9NNzSJn"
      },
      "execution_count": 51,
      "outputs": []
    },
    {
      "cell_type": "code",
      "source": [
        "### with best parameters\n",
        "\n",
        "# Train a CART model on the data\n",
        "cart = DecisionTreeRegressor(max_depth = 15, min_samples_split = 20, min_samples_leaf = 8)\n",
        "cart.fit(x_train, y_train)\n",
        "\n",
        "# Make predictions on the test set\n",
        "y_pred = cart.predict(x_test)\n",
        "\n",
        "# Calculate R-squared, MAE, MARE, RMSE\n",
        "r2 = r2_score(y_test, y_pred)\n",
        "mae = mean_absolute_error(y_test, y_pred)\n",
        "mare = np.mean(np.abs((y_test - y_pred) / y_test)) * 100\n",
        "rmse = np.sqrt(mean_squared_error(y_test, y_pred))\n",
        "\n",
        "# Print Results\n",
        "print(\"R-squared:\", r2)\n",
        "print(\"MAE:\", mae)\n",
        "print(\"MARE:\", mare)\n",
        "print(\"RMSE:\", rmse)"
      ],
      "metadata": {
        "id": "JLAHlV9EVrfM",
        "colab": {
          "base_uri": "https://localhost:8080/"
        },
        "outputId": "ece5b6d5-1b93-42a2-87d9-2d611bfce8ad"
      },
      "execution_count": 52,
      "outputs": [
        {
          "output_type": "stream",
          "name": "stdout",
          "text": [
            "R-squared: 0.9345800986488253\n",
            "MAE: 80.59481526440551\n",
            "MARE: 16.895704037343506\n",
            "RMSE: 122.6689015332635\n"
          ]
        }
      ]
    },
    {
      "cell_type": "markdown",
      "source": [
        "### To find best parameters"
      ],
      "metadata": {
        "id": "fIqqY5uOktPy"
      }
    },
    {
      "cell_type": "code",
      "source": [
        "### CART ### - Find best parameters\n",
        "\n",
        "# Define the parameter grid for tuning\n",
        "param_grid = {\n",
        "    'max_depth': [None, 5, 10, 15],\n",
        "    'min_samples_split': [2, 5, 10, 20],\n",
        "    'min_samples_leaf': [1, 2, 4, 8]\n",
        "}\n",
        "\n",
        "# Initialize the CART model\n",
        "cart = DecisionTreeRegressor()\n",
        "\n",
        "# Perform grid search to find the best parameter combination\n",
        "grid_search = GridSearchCV(cart, param_grid, cv=5, scoring='r2')\n",
        "grid_search.fit(x_train, y_train)\n",
        "\n",
        "# Get the best model with tuned parameters\n",
        "best_model = grid_search.best_estimator_\n",
        "\n",
        "# Make predictions on the test set using the best model\n",
        "y_pred = best_model.predict(x_test)\n",
        "\n",
        "# Calculate R-squared, MAE, MARE, RMSE\n",
        "r2 = r2_score(y_test, y_pred)\n",
        "mae = mean_absolute_error(y_test, y_pred)\n",
        "mare = np.mean(np.abs((y_test - y_pred) / y_test)) * 100\n",
        "rmse = np.sqrt(mean_squared_error(y_test, y_pred))\n",
        "\n",
        "# Print Results\n",
        "print(\"R-squared:\", r2)\n",
        "print(\"MAE:\", mae)\n",
        "print(\"MARE:\", mare)\n",
        "print(\"RMSE:\", rmse)"
      ],
      "metadata": {
        "id": "sndnGBDjePix"
      },
      "execution_count": null,
      "outputs": []
    },
    {
      "cell_type": "markdown",
      "source": [
        "## 3.6 GRNN - Generalized Regression Neural Network (GRNN)"
      ],
      "metadata": {
        "id": "qUkaWavTJLc4"
      }
    },
    {
      "cell_type": "markdown",
      "source": [
        "Install requirements"
      ],
      "metadata": {
        "id": "AzLIJlRkuNfS"
      }
    },
    {
      "cell_type": "code",
      "source": [
        "pip install pygam"
      ],
      "metadata": {
        "id": "ha93N17GJTfo"
      },
      "execution_count": null,
      "outputs": []
    },
    {
      "cell_type": "code",
      "source": [
        "from sklearn.metrics import r2_score, mean_absolute_error, mean_squared_error\n",
        "from pygam import LinearGAM\n",
        "from sklearn.model_selection import ParameterGrid"
      ],
      "metadata": {
        "id": "rqmTO11bz-xo"
      },
      "execution_count": 55,
      "outputs": []
    },
    {
      "cell_type": "markdown",
      "source": [
        "### Model - with best parameters"
      ],
      "metadata": {
        "id": "bb4kB_UwuWRn"
      }
    },
    {
      "cell_type": "code",
      "source": [
        "### GRNN ### ---with best parameters\n",
        "\n",
        "# Create the GRNN model\n",
        "model = LinearGAM(lam=0.1, n_splines=30, max_iter=100, tol=0.0001, terms='auto')\n",
        "\n",
        "# Train the model\n",
        "model.fit(x_train, y_train)\n",
        "\n",
        "# Make predictions on the test set\n",
        "y_pred = model.predict(x_test)\n",
        "\n",
        "# Calculate R-squared, MAE, MARE, RMSE\n",
        "r2 = r2_score(y_test, y_pred)\n",
        "mae = mean_absolute_error(y_test, y_pred)\n",
        "mare = np.mean(np.abs((y_test - y_pred) / y_test)) * 100\n",
        "rmse = np.sqrt(mean_squared_error(y_test, y_pred))\n",
        "\n",
        "# Print Results\n",
        "print(\"R-squared:\", r2)\n",
        "print(\"Mean Absolute Error:\", mae)\n",
        "print(\"Mean Absolute Percentage Error:\", mare)\n",
        "print(\"RMSE:\", rmse)"
      ],
      "metadata": {
        "colab": {
          "base_uri": "https://localhost:8080/"
        },
        "id": "GmVbEIUfJevP",
        "outputId": "d0f345f2-fe56-40a2-b44a-d5be6cb0bff3"
      },
      "execution_count": 56,
      "outputs": [
        {
          "output_type": "stream",
          "name": "stdout",
          "text": [
            "R-squared: 0.9100802478923622\n",
            "Mean Absolute Error: 99.74424719403554\n",
            "Mean Absolute Percentage Error: 23.090338518277246\n",
            "RMSE: 143.81595990244438\n"
          ]
        }
      ]
    },
    {
      "cell_type": "markdown",
      "source": [
        "## To find best parameters"
      ],
      "metadata": {
        "id": "NNvW1lQ2Jw83"
      }
    },
    {
      "cell_type": "code",
      "source": [
        "# find best parameters\n",
        "\n",
        "# Define the parameter grid for tuning\n",
        "param_grid = {\n",
        "    'lam': [0.1, 0.01, 0.001],\n",
        "    'n_splines': [10, 20, 30],\n",
        "    'max_iter': [100, 200, 300],\n",
        "    'tol': [1e-4, 1e-5, 1e-6],\n",
        "}\n",
        "\n",
        "best_r2 = -np.inf\n",
        "best_params = {}\n",
        "\n",
        "# Iterate over the parameter combinations\n",
        "for params in ParameterGrid(param_grid):\n",
        "    # Create the GRNN model with the current parameter combination\n",
        "    model = LinearGAM(**params)\n",
        "    model.fit(x_train, y_train)\n",
        "\n",
        "    # Make predictions on the test set\n",
        "    y_pred = model.predict(x_test)\n",
        "\n",
        "    # Calculate R-squared\n",
        "    r2 = r2_score(y_test, y_pred)\n",
        "\n",
        "    # Check if the current model is the best\n",
        "    if r2 > best_r2:\n",
        "        best_r2 = r2\n",
        "        best_params = params\n",
        "\n",
        "# Rebuild the best model using the best parameters\n",
        "best_model = LinearGAM(**best_params)\n",
        "best_model.fit(x_train, y_train)\n",
        "\n",
        "# Make predictions on the test set using the best model\n",
        "y_pred = best_model.predict(x_test)\n",
        "\n",
        "# Calculate evaluation metrics with the best model\n",
        "r2 = r2_score(y_test, y_pred)\n",
        "mae = mean_absolute_error(y_test, y_pred)\n",
        "mare = np.mean(np.abs((y_test - y_pred) / y_test)) * 100\n",
        "rmse = np.sqrt(mean_squared_error(y_test, y_pred))\n",
        "\n",
        "# Print the evaluation metrics and best parameters\n",
        "print(\"R-squared:\", r2)\n",
        "print(\"Mean Absolute Error:\", mae)\n",
        "print(\"Mean Absolute Percentage Error:\", mare)\n",
        "print(\"RMSE:\", rmse)\n",
        "print(\"Best Parameters:\", best_params)\n"
      ],
      "metadata": {
        "id": "tFtAhlxFJvdx"
      },
      "execution_count": null,
      "outputs": []
    },
    {
      "cell_type": "markdown",
      "source": [
        "# 3.7 ANNs Artificial Neural Networks (ANNs)"
      ],
      "metadata": {
        "id": "GxBAMeCXd3z3"
      }
    },
    {
      "cell_type": "markdown",
      "source": [
        "Install requirements"
      ],
      "metadata": {
        "id": "hNHLnWTF0cuw"
      }
    },
    {
      "cell_type": "code",
      "source": [
        "from sklearn.metrics import r2_score, mean_absolute_error, mean_squared_error\n",
        "from sklearn.neural_network import MLPRegressor"
      ],
      "metadata": {
        "id": "h905FD-X0hye"
      },
      "execution_count": null,
      "outputs": []
    },
    {
      "cell_type": "code",
      "source": [
        "# With best parameters\n",
        "\n",
        "# Create the ANNs model with specified parameters\n",
        "model = MLPRegressor(hidden_layer_sizes=150, activation='relu', solver='adam', alpha=0.01, learning_rate='adaptive')\n",
        "\n",
        "# Train the model\n",
        "model.fit(x_train, y_train)\n",
        "\n",
        "# Make predictions on the test set\n",
        "y_pred = model.predict(x_test)\n",
        "\n",
        "# Calculate R-squared, MAE, MARE, RMSE\n",
        "r2 = r2_score(y_test, y_pred)\n",
        "mae = mean_absolute_error(y_test, y_pred)\n",
        "mare = np.mean(np.abs((y_test - y_pred) / y_test)) * 100\n",
        "rmse = np.sqrt(mean_squared_error(y_test, y_pred))\n",
        "\n",
        "# Print Resultes\n",
        "print(\"R-squared:\", r2)\n",
        "print(\"Mean Absolute Error:\", mae)\n",
        "print(\"Mean Absolute Percentage Error:\", mare)\n",
        "print(\"RMSE:\", rmse)"
      ],
      "metadata": {
        "colab": {
          "base_uri": "https://localhost:8080/"
        },
        "id": "goKmxXJff0So",
        "outputId": "9b1fdd55-3dfc-45a2-8e5b-b1c843be5219"
      },
      "execution_count": null,
      "outputs": [
        {
          "output_type": "stream",
          "name": "stdout",
          "text": [
            "R-squared: 0.8593829553423451\n",
            "Mean Absolute Error: 130.36525924055027\n",
            "Mean Absolute Percentage Error: 28.25327041940819\n",
            "RMSE: 181.24978522281202\n"
          ]
        }
      ]
    },
    {
      "cell_type": "markdown",
      "source": [
        "# 3.8 Gradient Boosting"
      ],
      "metadata": {
        "id": "rt6kFaL8wOT-"
      }
    },
    {
      "cell_type": "markdown",
      "source": [
        "Install requirements"
      ],
      "metadata": {
        "id": "SOP4C4Fy1OZX"
      }
    },
    {
      "cell_type": "code",
      "source": [
        "pip install scikit-learn"
      ],
      "metadata": {
        "id": "2ekrEV_KVttl",
        "colab": {
          "base_uri": "https://localhost:8080/"
        },
        "outputId": "06cc2265-02ff-4282-e95e-b3c8b96e7bb4"
      },
      "execution_count": 59,
      "outputs": [
        {
          "output_type": "stream",
          "name": "stdout",
          "text": [
            "Requirement already satisfied: scikit-learn in /usr/local/lib/python3.10/dist-packages (1.2.2)\n",
            "Requirement already satisfied: numpy>=1.17.3 in /usr/local/lib/python3.10/dist-packages (from scikit-learn) (1.25.2)\n",
            "Requirement already satisfied: scipy>=1.3.2 in /usr/local/lib/python3.10/dist-packages (from scikit-learn) (1.10.1)\n",
            "Requirement already satisfied: joblib>=1.1.1 in /usr/local/lib/python3.10/dist-packages (from scikit-learn) (1.3.1)\n",
            "Requirement already satisfied: threadpoolctl>=2.0.0 in /usr/local/lib/python3.10/dist-packages (from scikit-learn) (3.2.0)\n"
          ]
        }
      ]
    },
    {
      "cell_type": "code",
      "source": [
        "from sklearn.metrics import r2_score, mean_absolute_error, mean_squared_error\n",
        "from sklearn.ensemble import GradientBoostingRegressor\n",
        "from sklearn.model_selection import GridSearchCV"
      ],
      "metadata": {
        "id": "19BsbM8z1QWx"
      },
      "execution_count": 60,
      "outputs": []
    },
    {
      "cell_type": "code",
      "source": [
        "# with best parameters\n",
        "\n",
        "# Create the GradientBoostingRegressor model\n",
        "model = GradientBoostingRegressor(n_estimators=300, max_depth=7, learning_rate=0.1)\n",
        "\n",
        "# Train the model\n",
        "model.fit(x_train, y_train)\n",
        "\n",
        "# Make predictions on the test set\n",
        "y_pred = model.predict(x_test)\n",
        "\n",
        "# Calculate R-squared, MAE, MARE, RMSE\n",
        "r2 = r2_score(y_test, y_pred)\n",
        "mae = mean_absolute_error(y_test, y_pred)\n",
        "mare = np.mean(np.abs((y_test - y_pred) / y_test)) * 100\n",
        "rmse = np.sqrt(mean_squared_error(y_test, y_pred))\n",
        "\n",
        "# Print Resultes\n",
        "print(\"R-squared:\", r2)\n",
        "print(\"Mean Absolute Error:\", mae)\n",
        "print(\"Mean Absolute Percentage Error:\", mare)\n",
        "print(\"RMSE:\", rmse)"
      ],
      "metadata": {
        "id": "4P42lNd_YfmL",
        "colab": {
          "base_uri": "https://localhost:8080/"
        },
        "outputId": "811a67f8-880f-4cf8-c7cc-0ff3d9281bcb"
      },
      "execution_count": 61,
      "outputs": [
        {
          "output_type": "stream",
          "name": "stdout",
          "text": [
            "R-squared: 0.9599529070855344\n",
            "Mean Absolute Error: 61.91162513111234\n",
            "Mean Absolute Percentage Error: 13.80264555461643\n",
            "RMSE: 95.9765272255871\n"
          ]
        }
      ]
    },
    {
      "cell_type": "markdown",
      "source": [
        "### To find best parameters"
      ],
      "metadata": {
        "id": "1Do6_kti1D62"
      }
    },
    {
      "cell_type": "code",
      "source": [
        "# to find best parameters\n",
        "\n",
        "# Create the GradientBoostingRegressor model\n",
        "model = GradientBoostingRegressor()\n",
        "\n",
        "# Define the parameter grid for tuning\n",
        "param_grid = {\n",
        "    'n_estimators': [100, 200, 300],\n",
        "    'max_depth': [3, 5, 7],\n",
        "    'learning_rate': [0.1, 0.01, 0.001]\n",
        "}\n",
        "\n",
        "# Perform grid search to find the best parameter combination\n",
        "grid_search = GridSearchCV(model, param_grid, scoring='r2', cv=5)\n",
        "grid_search.fit(x_train, y_train)\n",
        "\n",
        "# Get the best model with tuned parameters\n",
        "best_model = grid_search.best_estimator_\n",
        "\n",
        "# Make predictions on the test set using the best model\n",
        "y_pred = best_model.predict(x_test)\n",
        "\n",
        "# Calculate R-squared, MAE, MARE, RMSE\n",
        "r2 = r2_score(y_test, y_pred)\n",
        "mae = mean_absolute_error(y_test, y_pred)\n",
        "mare = np.mean(np.abs((y_test - y_pred) / y_test)) * 100\n",
        "rmse = np.sqrt(mean_squared_error(y_test, y_pred))\n",
        "\n",
        "# Print Resultes\n",
        "print(\"R-squared:\", r2)\n",
        "print(\"Mean Absolute Error:\", mae)\n",
        "print(\"Mean Absolute Percentage Error:\", mare)\n",
        "print(\"RMSE:\", rmse)\n",
        "print(\"Best Model:\", best_model)"
      ],
      "metadata": {
        "id": "wmtlSTAFwcEk"
      },
      "execution_count": null,
      "outputs": []
    },
    {
      "cell_type": "markdown",
      "source": [
        "## 3.9 Ordinary Least Squares (OLS)"
      ],
      "metadata": {
        "id": "xTlKybTX1sCl"
      }
    },
    {
      "cell_type": "markdown",
      "source": [
        "Install requirements"
      ],
      "metadata": {
        "id": "m60oHqh1139X"
      }
    },
    {
      "cell_type": "code",
      "source": [
        "from sklearn.metrics import r2_score, mean_absolute_error, mean_squared_error\n",
        "from sklearn.linear_model import LinearRegression"
      ],
      "metadata": {
        "id": "EWv9LGMN15Io"
      },
      "execution_count": null,
      "outputs": []
    },
    {
      "cell_type": "code",
      "source": [
        "# Create the LinearRegression model\n",
        "model = LinearRegression()\n",
        "\n",
        "# Train the model\n",
        "model.fit(x_train, y_train)\n",
        "\n",
        "# Make predictions on the test set\n",
        "y_pred = model.predict(x_test)\n",
        "\n",
        "# Calculate R-squared, MAE, MARE, RMSE\n",
        "r2 = r2_score(y_test, y_pred)\n",
        "mae = mean_absolute_error(y_test, y_pred)\n",
        "mare = np.mean(np.abs((y_test - y_pred) / y_test)) * 100\n",
        "rmse = np.sqrt(mean_squared_error(y_test, y_pred))\n",
        "\n",
        "# Print Resultes\n",
        "print(\"R-squared:\", r2)\n",
        "print(\"Mean Absolute Error:\", mae)\n",
        "print(\"Mean Absolute Percentage Error:\", mare)\n",
        "print(\"RMSE:\", rmse)"
      ],
      "metadata": {
        "colab": {
          "base_uri": "https://localhost:8080/"
        },
        "id": "WApag74RLj62",
        "outputId": "cd146ce7-74ab-464b-a0c1-4b1aaa358353"
      },
      "execution_count": null,
      "outputs": [
        {
          "output_type": "stream",
          "name": "stdout",
          "text": [
            "R-squared: 0.8316824862616343\n",
            "Mean Absolute Error: 142.79021386701825\n",
            "Mean Absolute Percentage Error: 31.023226870932337\n",
            "RMSE: 198.3002086935617\n"
          ]
        }
      ]
    }
  ]
}